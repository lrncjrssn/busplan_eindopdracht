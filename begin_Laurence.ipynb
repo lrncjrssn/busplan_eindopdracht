{
 "cells": [
  {
   "cell_type": "code",
   "execution_count": null,
   "id": "dc9394b9-62d4-4c6a-8080-7ef5dbaa4a3c",
   "metadata": {},
   "outputs": [],
   "source": []
  }
 ],
 "metadata": {
  "kernelspec": {
   "display_name": "",
   "name": ""
  },
  "language_info": {
   "name": ""
  }
 },
 "nbformat": 4,
 "nbformat_minor": 5
}
